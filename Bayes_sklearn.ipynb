{
  "cells": [
    {
      "cell_type": "markdown",
      "metadata": {
        "id": "view-in-github",
        "colab_type": "text"
      },
      "source": [
        "<a href=\"https://colab.research.google.com/github/JohnBortotti/Bayes-Sklearn-test/blob/main/Bayes_sklearn.ipynb\" target=\"_parent\"><img src=\"https://colab.research.google.com/assets/colab-badge.svg\" alt=\"Open In Colab\"/></a>"
      ]
    },
    {
      "cell_type": "code",
      "execution_count": null,
      "metadata": {
        "id": "IcL-ZifssDKw"
      },
      "outputs": [],
      "source": [
        "from sklearn.metrics import accuracy_score, top_k_accuracy_score, classification_report\n",
        "from sklearn.naive_bayes import MultinomialNB\n",
        "from sklearn import preprocessing\n",
        "from sklearn.feature_extraction.text import CountVectorizer\n",
        "\n",
        "import nltk\n",
        "from nltk.tokenize import word_tokenize\n",
        "from nltk.corpus import stopwords\n",
        "\n",
        "import spacy\n",
        "\n",
        "import string\n",
        "import math\n",
        "import os\n",
        "\n",
        "import numpy as np\n",
        "import pandas as pd\n",
        "import matplotlib.pyplot as plt"
      ]
    },
    {
      "cell_type": "code",
      "execution_count": null,
      "metadata": {
        "colab": {
          "base_uri": "https://localhost:8080/"
        },
        "id": "6x6ByMYAss7c",
        "outputId": "2b3060bf-9ba7-451b-9a63-92e700193ebe"
      },
      "outputs": [
        {
          "output_type": "stream",
          "name": "stderr",
          "text": [
            "[nltk_data] Downloading package stopwords to /root/nltk_data...\n",
            "[nltk_data]   Package stopwords is already up-to-date!\n",
            "[nltk_data] Downloading package punkt to /root/nltk_data...\n",
            "[nltk_data]   Package punkt is already up-to-date!\n"
          ]
        }
      ],
      "source": [
        "nltk.download('stopwords')\n",
        "nltk.download('punkt')\n",
        "pt_stopwords = stopwords.words('portuguese')\n",
        "\n",
        "os.system(\"python -m spacy download pt_core_news_lg\")\n",
        "\n",
        "spacy_nlp_model = spacy.load('pt_core_news_lg', disable=[\n",
        "    \"tagger\", \"parser\", \"ner\", \"textcat\", \"entity_linker\", \n",
        "    \"attribute_ruler\", \"entity_ruler\", \"morphologizer\",\n",
        "    \"senter\", \"tok2vec\", \"transformer\"\n",
        "])"
      ]
    },
    {
      "cell_type": "code",
      "execution_count": null,
      "metadata": {
        "colab": {
          "base_uri": "https://localhost:8080/"
        },
        "id": "7ToZzIH2szhF",
        "outputId": "99b4d79d-9eef-4ed7-e3d9-7e6bfb9534ed"
      },
      "outputs": [
        {
          "output_type": "stream",
          "name": "stdout",
          "text": [
            "Drive already mounted at /content/drive; to attempt to forcibly remount, call drive.mount(\"/content/drive\", force_remount=True).\n"
          ]
        }
      ],
      "source": [
        "from google.colab import drive\n",
        "drive.mount('/content/drive')"
      ]
    },
    {
      "cell_type": "code",
      "execution_count": null,
      "metadata": {
        "id": "0oHgLww2t5qA"
      },
      "outputs": [],
      "source": [
        "# set csv path and separator\n",
        "csv = pd.read_csv('/content/drive/MyDrive/Colab Notebooks/kaggle_databases/tweet_emotions.csv', sep=';')"
      ]
    },
    {
      "cell_type": "code",
      "execution_count": null,
      "metadata": {
        "id": "oLLR-ur8v-9N"
      },
      "outputs": [],
      "source": [
        "# csv config labels, columns, etc...\n",
        "csv_comment_column = 'content'\n",
        "csv_label_column = 'sentiment'\n",
        "csv = csv[[csv_comment_column, csv_label_column]]"
      ]
    },
    {
      "cell_type": "code",
      "execution_count": null,
      "metadata": {
        "id": "i9KhEWzSwMwH"
      },
      "outputs": [],
      "source": [
        "# text processing (remove stopwords, tokenization)\n",
        "train_dataset = []\n",
        "\n",
        "bad_words = set(pt_stopwords + list(string.punctuation))\n",
        "\n",
        "for i, row in csv.iterrows():\n",
        "  treated_string = \"\"\n",
        "  row_tokens = row_tokens = spacy_nlp_model(row[csv_comment_column].lower())\n",
        "  for token in row_tokens:\n",
        "    word = token.lemma_\n",
        "    if not (word in bad_words):\n",
        "        treated_string += word\n",
        "  if treated_string != \"\":\n",
        "    train_dataset.append((treated_string, row[csv_label_column]))"
      ]
    },
    {
      "cell_type": "code",
      "execution_count": null,
      "metadata": {
        "id": "ywZaYGwSxYP7"
      },
      "outputs": [],
      "source": [
        "# shuffle dataset\n",
        "train_dataframe = pd.DataFrame(train_dataset)\n",
        "train_dataframe = train_dataframe.sample(frac=1).reset_index(drop=True)"
      ]
    },
    {
      "cell_type": "code",
      "source": [
        "# droping some rows to avoid RAM crashing on Google Colab\n",
        "train_dataframe = train_dataframe[:20000]"
      ],
      "metadata": {
        "id": "bQuMtWTPzC77"
      },
      "execution_count": null,
      "outputs": []
    },
    {
      "cell_type": "code",
      "execution_count": null,
      "metadata": {
        "id": "K_na4L68xdrf"
      },
      "outputs": [],
      "source": [
        "# slice dataframe (train and validation)\n",
        "total_len = len(train_dataframe)\n",
        "train_len = math.floor(len(train_dataframe)*7/10)\n",
        "\n",
        "validation_dataframe = train_dataframe[train_len+1:]\n",
        "train_dataframe = train_dataframe[0:train_len]"
      ]
    },
    {
      "cell_type": "code",
      "execution_count": null,
      "metadata": {
        "id": "pyUiGa19xopP"
      },
      "outputs": [],
      "source": [
        "# labels encoding\n",
        "label_encoder = preprocessing.LabelEncoder()\n",
        "train_labels=label_encoder.fit_transform(train_dataframe[1])\n",
        "\n",
        "# input encoding\n",
        "vectorizer = CountVectorizer()\n",
        "train_inputs = vectorizer.fit_transform(train_dataframe[0])"
      ]
    },
    {
      "cell_type": "code",
      "execution_count": null,
      "metadata": {
        "id": "mKHIGeC3xyct",
        "colab": {
          "base_uri": "https://localhost:8080/"
        },
        "outputId": "3c1a45df-196b-4a92-894d-9a75d10d8897"
      },
      "outputs": [
        {
          "output_type": "execute_result",
          "data": {
            "text/plain": [
              "MultinomialNB()"
            ]
          },
          "metadata": {},
          "execution_count": 16
        }
      ],
      "source": [
        "# training step\n",
        "model = MultinomialNB()\n",
        "model.fit(train_inputs.toarray(), train_labels)"
      ]
    },
    {
      "cell_type": "code",
      "execution_count": null,
      "metadata": {
        "id": "VhWf-VUHx17t",
        "colab": {
          "base_uri": "https://localhost:8080/"
        },
        "outputId": "5792be78-f1d3-489c-dd23-81487cecd956"
      },
      "outputs": [
        {
          "output_type": "stream",
          "name": "stdout",
          "text": [
            "Accuracy: 0.2303717286214369\n",
            "Test dataset: 14000\n",
            "Validation dataset: 5999\n"
          ]
        }
      ],
      "source": [
        "# validation\n",
        "validation_encoded = vectorizer.transform(validation_dataframe[0]).toarray()\n",
        "validation_predict = model.predict(validation_encoded)\n",
        "\n",
        "print('Accuracy:', accuracy_score(label_encoder.transform(validation_dataframe[1]), validation_predict))\n",
        "print('Test dataset:', len(train_inputs.toarray()))\n",
        "print('Validation dataset:', len(validation_encoded))"
      ]
    },
    {
      "cell_type": "code",
      "source": [
        "# report\n",
        "print(classification_report(label_encoder.transform(validation_dataframe[1]), validation_predict, target_names=label_encoder.classes_))"
      ],
      "metadata": {
        "colab": {
          "base_uri": "https://localhost:8080/"
        },
        "id": "XuJJI5VOz0MH",
        "outputId": "468d3d54-b0ec-4581-844e-1181a0ce6f5f"
      },
      "execution_count": null,
      "outputs": [
        {
          "output_type": "stream",
          "name": "stdout",
          "text": [
            "              precision    recall  f1-score   support\n",
            "\n",
            "       anger       0.00      0.00      0.00        14\n",
            "     boredom       0.00      0.00      0.00        31\n",
            "       empty       0.00      0.00      0.00       116\n",
            "  enthusiasm       0.00      0.00      0.00       117\n",
            "         fun       0.00      0.00      0.00       287\n",
            "   happiness       0.27      0.03      0.05       791\n",
            "        hate       0.00      0.00      0.00       185\n",
            "        love       0.42      0.06      0.10       573\n",
            "     neutral       0.22      0.91      0.36      1289\n",
            "      relief       0.00      0.00      0.00       231\n",
            "     sadness       0.30      0.03      0.06       802\n",
            "    surprise       0.00      0.00      0.00       358\n",
            "       worry       0.28      0.10      0.15      1205\n",
            "\n",
            "    accuracy                           0.23      5999\n",
            "   macro avg       0.12      0.09      0.06      5999\n",
            "weighted avg       0.22      0.23      0.13      5999\n",
            "\n"
          ]
        },
        {
          "output_type": "stream",
          "name": "stderr",
          "text": [
            "/usr/local/lib/python3.7/dist-packages/sklearn/metrics/_classification.py:1318: UndefinedMetricWarning: Precision and F-score are ill-defined and being set to 0.0 in labels with no predicted samples. Use `zero_division` parameter to control this behavior.\n",
            "  _warn_prf(average, modifier, msg_start, len(result))\n",
            "/usr/local/lib/python3.7/dist-packages/sklearn/metrics/_classification.py:1318: UndefinedMetricWarning: Precision and F-score are ill-defined and being set to 0.0 in labels with no predicted samples. Use `zero_division` parameter to control this behavior.\n",
            "  _warn_prf(average, modifier, msg_start, len(result))\n",
            "/usr/local/lib/python3.7/dist-packages/sklearn/metrics/_classification.py:1318: UndefinedMetricWarning: Precision and F-score are ill-defined and being set to 0.0 in labels with no predicted samples. Use `zero_division` parameter to control this behavior.\n",
            "  _warn_prf(average, modifier, msg_start, len(result))\n"
          ]
        }
      ]
    }
  ],
  "metadata": {
    "colab": {
      "collapsed_sections": [],
      "provenance": [],
      "mount_file_id": "1V2K-7BcqVC6xr3hBGDJmzXvD_FVsW4xg",
      "authorship_tag": "ABX9TyObbvBWeEf2xXFHHyK5B41M",
      "include_colab_link": true
    },
    "kernelspec": {
      "display_name": "Python 3",
      "name": "python3"
    },
    "language_info": {
      "name": "python"
    }
  },
  "nbformat": 4,
  "nbformat_minor": 0
}